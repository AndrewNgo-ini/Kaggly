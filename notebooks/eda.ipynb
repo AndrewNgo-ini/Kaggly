{
 "cells": [
  {
   "cell_type": "code",
   "execution_count": 10,
   "metadata": {},
   "outputs": [
    {
     "name": "stdout",
     "output_type": "stream",
     "text": [
      "<class 'numpy.float64'>\n"
     ]
    },
    {
     "ename": "KeyError",
     "evalue": "3.5",
     "output_type": "error",
     "traceback": [
      "\u001b[0;31m---------------------------------------------------------------------------\u001b[0m",
      "\u001b[0;31mKeyError\u001b[0m                                  Traceback (most recent call last)",
      "\u001b[1;32m/Users/hieu/Personal/kaggle/nlp_kaggle_framework/notebooks/eda.ipynb Cell 1\u001b[0m in \u001b[0;36m<cell line: 25>\u001b[0;34m()\u001b[0m\n\u001b[1;32m     <a href='vscode-notebook-cell:/Users/hieu/Personal/kaggle/nlp_kaggle_framework/notebooks/eda.ipynb#W0sZmlsZQ%3D%3D?line=20'>21</a>\u001b[0m     \u001b[39mreturn\u001b[39;00m mp[x]\n\u001b[1;32m     <a href='vscode-notebook-cell:/Users/hieu/Personal/kaggle/nlp_kaggle_framework/notebooks/eda.ipynb#W0sZmlsZQ%3D%3D?line=22'>23</a>\u001b[0m \u001b[39m#Y = df[\"cohesion\"].apply(lambda x : label_map(x))\u001b[39;00m\n\u001b[1;32m     <a href='vscode-notebook-cell:/Users/hieu/Personal/kaggle/nlp_kaggle_framework/notebooks/eda.ipynb#W0sZmlsZQ%3D%3D?line=23'>24</a>\u001b[0m \u001b[39m# df[\"cohesion\"]\u001b[39;00m\n\u001b[0;32m---> <a href='vscode-notebook-cell:/Users/hieu/Personal/kaggle/nlp_kaggle_framework/notebooks/eda.ipynb#W0sZmlsZQ%3D%3D?line=24'>25</a>\u001b[0m label_map(df[\u001b[39m\"\u001b[39;49m\u001b[39mcohesion\u001b[39;49m\u001b[39m\"\u001b[39;49m][\u001b[39m0\u001b[39;49m])\n",
      "\u001b[1;32m/Users/hieu/Personal/kaggle/nlp_kaggle_framework/notebooks/eda.ipynb Cell 1\u001b[0m in \u001b[0;36mlabel_map\u001b[0;34m(x)\u001b[0m\n\u001b[1;32m      <a href='vscode-notebook-cell:/Users/hieu/Personal/kaggle/nlp_kaggle_framework/notebooks/eda.ipynb#W0sZmlsZQ%3D%3D?line=8'>9</a>\u001b[0m \u001b[39mprint\u001b[39m(\u001b[39mtype\u001b[39m(x))\n\u001b[1;32m     <a href='vscode-notebook-cell:/Users/hieu/Personal/kaggle/nlp_kaggle_framework/notebooks/eda.ipynb#W0sZmlsZQ%3D%3D?line=9'>10</a>\u001b[0m mp \u001b[39m=\u001b[39m {\n\u001b[1;32m     <a href='vscode-notebook-cell:/Users/hieu/Personal/kaggle/nlp_kaggle_framework/notebooks/eda.ipynb#W0sZmlsZQ%3D%3D?line=10'>11</a>\u001b[0m \u001b[39m'\u001b[39m\u001b[39m1.0\u001b[39m\u001b[39m'\u001b[39m: \u001b[39m0\u001b[39m,\n\u001b[1;32m     <a href='vscode-notebook-cell:/Users/hieu/Personal/kaggle/nlp_kaggle_framework/notebooks/eda.ipynb#W0sZmlsZQ%3D%3D?line=11'>12</a>\u001b[0m \u001b[39m'\u001b[39m\u001b[39m1.5\u001b[39m\u001b[39m'\u001b[39m: \u001b[39m1\u001b[39m,\n\u001b[0;32m   (...)\u001b[0m\n\u001b[1;32m     <a href='vscode-notebook-cell:/Users/hieu/Personal/kaggle/nlp_kaggle_framework/notebooks/eda.ipynb#W0sZmlsZQ%3D%3D?line=18'>19</a>\u001b[0m \u001b[39m'\u001b[39m\u001b[39m5.0\u001b[39m\u001b[39m'\u001b[39m: \u001b[39m8\u001b[39m,\n\u001b[1;32m     <a href='vscode-notebook-cell:/Users/hieu/Personal/kaggle/nlp_kaggle_framework/notebooks/eda.ipynb#W0sZmlsZQ%3D%3D?line=19'>20</a>\u001b[0m }\n\u001b[0;32m---> <a href='vscode-notebook-cell:/Users/hieu/Personal/kaggle/nlp_kaggle_framework/notebooks/eda.ipynb#W0sZmlsZQ%3D%3D?line=20'>21</a>\u001b[0m \u001b[39mreturn\u001b[39;00m mp[x]\n",
      "\u001b[0;31mKeyError\u001b[0m: 3.5"
     ]
    }
   ],
   "source": [
    "import pandas as pd\n",
    "from sklearn.feature_extraction.text import CountVectorizer\n",
    "df = pd.read_csv(\"../data/raw/train.csv\")\n",
    "#print(df.head(5))\n",
    "vectorizer = CountVectorizer()\n",
    "X = vectorizer.fit_transform(df[\"full_text\"].values)\n",
    "\n",
    "def label_map(x):\n",
    "    print(type(x))\n",
    "    mp = {\n",
    "    1.0: 0,\n",
    "    1.5: 1,\n",
    "    2.0: 2,\n",
    "    2.5: 3,\n",
    "    3.0: 4,\n",
    "    3.5: 5,\n",
    "    4.0: 6,\n",
    "    4.5: 7,\n",
    "    5.0: 8,\n",
    "    }\n",
    "    return mp[x]\n",
    "\n",
    "#Y = df[\"cohesion\"].apply(lambda x : label_map(x))\n",
    "# df[\"cohesion\"]\n",
    "label_map(df[\"cohesion\"][0])\n",
    "#return X.toarray(), Y[type]\n"
   ]
  }
 ],
 "metadata": {
  "kernelspec": {
   "display_name": "Python 3.8.13 ('nlp')",
   "language": "python",
   "name": "python3"
  },
  "language_info": {
   "codemirror_mode": {
    "name": "ipython",
    "version": 3
   },
   "file_extension": ".py",
   "mimetype": "text/x-python",
   "name": "python",
   "nbconvert_exporter": "python",
   "pygments_lexer": "ipython3",
   "version": "3.8.13"
  },
  "orig_nbformat": 4,
  "vscode": {
   "interpreter": {
    "hash": "3ab8eae27f2b7f070fb212b811e434067d9044ace4a1890f12adab54057641d5"
   }
  }
 },
 "nbformat": 4,
 "nbformat_minor": 2
}
